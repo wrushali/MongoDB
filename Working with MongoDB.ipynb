{
 "cells": [
  {
   "cell_type": "code",
   "execution_count": 16,
   "metadata": {},
   "outputs": [
    {
     "name": "stdout",
     "output_type": "stream",
     "text": [
      "Requirement already satisfied: pymongo in c:\\users\\60090211.nswhealth\\anaconda3\\lib\\site-packages (3.11.3)\n"
     ]
    }
   ],
   "source": [
    "!pip install pymongo"
   ]
  },
  {
   "cell_type": "code",
   "execution_count": 17,
   "metadata": {},
   "outputs": [],
   "source": [
    "#import the pymongo pakage\n",
    "import pymongo\n"
   ]
  },
  {
   "cell_type": "code",
   "execution_count": 18,
   "metadata": {},
   "outputs": [],
   "source": [
    "#connect to the locally running MongoDB Instance\n",
    "db_conn = pymongo.MongoClient(\"mongodb://127.0.0.1:27017\") # package which enables us to connect to the mongo db"
   ]
  },
  {
   "cell_type": "code",
   "execution_count": 20,
   "metadata": {},
   "outputs": [
    {
     "name": "stdout",
     "output_type": "stream",
     "text": [
      "['admin', 'config', 'local', 'market', 'practice']\n"
     ]
    }
   ],
   "source": [
    "#show all databases\n",
    "print(db_conn.list_database_names())"
   ]
  },
  {
   "cell_type": "code",
   "execution_count": 21,
   "metadata": {},
   "outputs": [],
   "source": [
    "db_name = 'demoDB'\n",
    "db = db_conn[db_name]\n",
    "#if the database is not present it will create a new one\n",
    "#connecting to database named demoDB present in mongodb"
   ]
  },
  {
   "cell_type": "code",
   "execution_count": 22,
   "metadata": {},
   "outputs": [],
   "source": [
    "#connecting to a collection\n",
    "collection_name = 'mongo_demo'\n",
    "collection = db[collection_name]"
   ]
  },
  {
   "cell_type": "code",
   "execution_count": 23,
   "metadata": {},
   "outputs": [
    {
     "name": "stdout",
     "output_type": "stream",
     "text": [
      "collection does not exist\n"
     ]
    }
   ],
   "source": [
    "if collection_name in db.list_collection_names():\n",
    "    print('collection exist')\n",
    "else:\n",
    "    print('collection does not exist')"
   ]
  },
  {
   "cell_type": "code",
   "execution_count": 24,
   "metadata": {},
   "outputs": [],
   "source": [
    "#inserting a new row into a collection\n",
    "my_row = {'Serial No': '9998',\n",
    "         'GRE SCORE' : '337',\n",
    "          'UNI RATING':'4',\n",
    "          'SOP': '4.5',\n",
    "          'LOR': '4.5',\n",
    "          'CGPA': '9.65',\n",
    "          'RESEARCH': '1',\n",
    "          'Chance of admit': '0.92'} # Creating key value pairs for inserting into the db"
   ]
  },
  {
   "cell_type": "code",
   "execution_count": 25,
   "metadata": {},
   "outputs": [],
   "source": [
    "x = collection.insert_one(my_row) \n",
    "## inserting records into collection"
   ]
  },
  {
   "cell_type": "code",
   "execution_count": null,
   "metadata": {},
   "outputs": [],
   "source": []
  }
 ],
 "metadata": {
  "kernelspec": {
   "display_name": "Python 3",
   "language": "python",
   "name": "python3"
  },
  "language_info": {
   "codemirror_mode": {
    "name": "ipython",
    "version": 3
   },
   "file_extension": ".py",
   "mimetype": "text/x-python",
   "name": "python",
   "nbconvert_exporter": "python",
   "pygments_lexer": "ipython3",
   "version": "3.8.5"
  }
 },
 "nbformat": 4,
 "nbformat_minor": 4
}
